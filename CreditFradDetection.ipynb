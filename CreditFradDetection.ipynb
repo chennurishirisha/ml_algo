{
  "nbformat": 4,
  "nbformat_minor": 0,
  "metadata": {
    "colab": {
      "provenance": [],
      "authorship_tag": "ABX9TyPlXVl9/XhMHqQLxJh7j+Fh",
      "include_colab_link": true
    },
    "kernelspec": {
      "name": "python3",
      "display_name": "Python 3"
    },
    "language_info": {
      "name": "python"
    },
    "accelerator": "GPU",
    "gpuClass": "standard"
  },
  "cells": [
    {
      "cell_type": "markdown",
      "metadata": {
        "id": "view-in-github",
        "colab_type": "text"
      },
      "source": [
        "<a href=\"https://colab.research.google.com/github/chennurishirisha/ml_algo/blob/main/CreditFradDetection.ipynb\" target=\"_parent\"><img src=\"https://colab.research.google.com/assets/colab-badge.svg\" alt=\"Open In Colab\"/></a>"
      ]
    },
    {
      "cell_type": "code",
      "execution_count": 21,
      "metadata": {
        "id": "jqCthnavFXZN"
      },
      "outputs": [],
      "source": [
        "import numpy as np\n",
        "import pandas as pd\n",
        "from sklearn.model_selection import train_test_split\n",
        "from sklearn.linear_model import LogisticRegression"
      ]
    },
    {
      "cell_type": "code",
      "source": [
        "credit_df = pd.read_csv('/content/creditcard.csv')"
      ],
      "metadata": {
        "id": "7gA7Ey6LUDWp"
      },
      "execution_count": 22,
      "outputs": []
    },
    {
      "cell_type": "code",
      "source": [
        "credit_df.head()"
      ],
      "metadata": {
        "colab": {
          "base_uri": "https://localhost:8080/",
          "height": 299
        },
        "id": "GGMtgDVfUbWM",
        "outputId": "d423e8d9-8b82-497e-8846-453353c03e11"
      },
      "execution_count": 23,
      "outputs": [
        {
          "output_type": "execute_result",
          "data": {
            "text/plain": [
              "   Time        V1        V2        V3        V4        V5        V6        V7  \\\n",
              "0   0.0 -1.359807 -0.072781  2.536347  1.378155 -0.338321  0.462388  0.239599   \n",
              "1   0.0  1.191857  0.266151  0.166480  0.448154  0.060018 -0.082361 -0.078803   \n",
              "2   1.0 -1.358354 -1.340163  1.773209  0.379780 -0.503198  1.800499  0.791461   \n",
              "3   1.0 -0.966272 -0.185226  1.792993 -0.863291 -0.010309  1.247203  0.237609   \n",
              "4   2.0 -1.158233  0.877737  1.548718  0.403034 -0.407193  0.095921  0.592941   \n",
              "\n",
              "         V8        V9  ...       V21       V22       V23       V24       V25  \\\n",
              "0  0.098698  0.363787  ... -0.018307  0.277838 -0.110474  0.066928  0.128539   \n",
              "1  0.085102 -0.255425  ... -0.225775 -0.638672  0.101288 -0.339846  0.167170   \n",
              "2  0.247676 -1.514654  ...  0.247998  0.771679  0.909412 -0.689281 -0.327642   \n",
              "3  0.377436 -1.387024  ... -0.108300  0.005274 -0.190321 -1.175575  0.647376   \n",
              "4 -0.270533  0.817739  ... -0.009431  0.798278 -0.137458  0.141267 -0.206010   \n",
              "\n",
              "        V26       V27       V28  Amount  Class  \n",
              "0 -0.189115  0.133558 -0.021053  149.62    0.0  \n",
              "1  0.125895 -0.008983  0.014724    2.69    0.0  \n",
              "2 -0.139097 -0.055353 -0.059752  378.66    0.0  \n",
              "3 -0.221929  0.062723  0.061458  123.50    0.0  \n",
              "4  0.502292  0.219422  0.215153   69.99    0.0  \n",
              "\n",
              "[5 rows x 31 columns]"
            ],
            "text/html": [
              "\n",
              "  <div id=\"df-7ef82913-5735-48a5-962d-bb9c449d8f4e\">\n",
              "    <div class=\"colab-df-container\">\n",
              "      <div>\n",
              "<style scoped>\n",
              "    .dataframe tbody tr th:only-of-type {\n",
              "        vertical-align: middle;\n",
              "    }\n",
              "\n",
              "    .dataframe tbody tr th {\n",
              "        vertical-align: top;\n",
              "    }\n",
              "\n",
              "    .dataframe thead th {\n",
              "        text-align: right;\n",
              "    }\n",
              "</style>\n",
              "<table border=\"1\" class=\"dataframe\">\n",
              "  <thead>\n",
              "    <tr style=\"text-align: right;\">\n",
              "      <th></th>\n",
              "      <th>Time</th>\n",
              "      <th>V1</th>\n",
              "      <th>V2</th>\n",
              "      <th>V3</th>\n",
              "      <th>V4</th>\n",
              "      <th>V5</th>\n",
              "      <th>V6</th>\n",
              "      <th>V7</th>\n",
              "      <th>V8</th>\n",
              "      <th>V9</th>\n",
              "      <th>...</th>\n",
              "      <th>V21</th>\n",
              "      <th>V22</th>\n",
              "      <th>V23</th>\n",
              "      <th>V24</th>\n",
              "      <th>V25</th>\n",
              "      <th>V26</th>\n",
              "      <th>V27</th>\n",
              "      <th>V28</th>\n",
              "      <th>Amount</th>\n",
              "      <th>Class</th>\n",
              "    </tr>\n",
              "  </thead>\n",
              "  <tbody>\n",
              "    <tr>\n",
              "      <th>0</th>\n",
              "      <td>0.0</td>\n",
              "      <td>-1.359807</td>\n",
              "      <td>-0.072781</td>\n",
              "      <td>2.536347</td>\n",
              "      <td>1.378155</td>\n",
              "      <td>-0.338321</td>\n",
              "      <td>0.462388</td>\n",
              "      <td>0.239599</td>\n",
              "      <td>0.098698</td>\n",
              "      <td>0.363787</td>\n",
              "      <td>...</td>\n",
              "      <td>-0.018307</td>\n",
              "      <td>0.277838</td>\n",
              "      <td>-0.110474</td>\n",
              "      <td>0.066928</td>\n",
              "      <td>0.128539</td>\n",
              "      <td>-0.189115</td>\n",
              "      <td>0.133558</td>\n",
              "      <td>-0.021053</td>\n",
              "      <td>149.62</td>\n",
              "      <td>0.0</td>\n",
              "    </tr>\n",
              "    <tr>\n",
              "      <th>1</th>\n",
              "      <td>0.0</td>\n",
              "      <td>1.191857</td>\n",
              "      <td>0.266151</td>\n",
              "      <td>0.166480</td>\n",
              "      <td>0.448154</td>\n",
              "      <td>0.060018</td>\n",
              "      <td>-0.082361</td>\n",
              "      <td>-0.078803</td>\n",
              "      <td>0.085102</td>\n",
              "      <td>-0.255425</td>\n",
              "      <td>...</td>\n",
              "      <td>-0.225775</td>\n",
              "      <td>-0.638672</td>\n",
              "      <td>0.101288</td>\n",
              "      <td>-0.339846</td>\n",
              "      <td>0.167170</td>\n",
              "      <td>0.125895</td>\n",
              "      <td>-0.008983</td>\n",
              "      <td>0.014724</td>\n",
              "      <td>2.69</td>\n",
              "      <td>0.0</td>\n",
              "    </tr>\n",
              "    <tr>\n",
              "      <th>2</th>\n",
              "      <td>1.0</td>\n",
              "      <td>-1.358354</td>\n",
              "      <td>-1.340163</td>\n",
              "      <td>1.773209</td>\n",
              "      <td>0.379780</td>\n",
              "      <td>-0.503198</td>\n",
              "      <td>1.800499</td>\n",
              "      <td>0.791461</td>\n",
              "      <td>0.247676</td>\n",
              "      <td>-1.514654</td>\n",
              "      <td>...</td>\n",
              "      <td>0.247998</td>\n",
              "      <td>0.771679</td>\n",
              "      <td>0.909412</td>\n",
              "      <td>-0.689281</td>\n",
              "      <td>-0.327642</td>\n",
              "      <td>-0.139097</td>\n",
              "      <td>-0.055353</td>\n",
              "      <td>-0.059752</td>\n",
              "      <td>378.66</td>\n",
              "      <td>0.0</td>\n",
              "    </tr>\n",
              "    <tr>\n",
              "      <th>3</th>\n",
              "      <td>1.0</td>\n",
              "      <td>-0.966272</td>\n",
              "      <td>-0.185226</td>\n",
              "      <td>1.792993</td>\n",
              "      <td>-0.863291</td>\n",
              "      <td>-0.010309</td>\n",
              "      <td>1.247203</td>\n",
              "      <td>0.237609</td>\n",
              "      <td>0.377436</td>\n",
              "      <td>-1.387024</td>\n",
              "      <td>...</td>\n",
              "      <td>-0.108300</td>\n",
              "      <td>0.005274</td>\n",
              "      <td>-0.190321</td>\n",
              "      <td>-1.175575</td>\n",
              "      <td>0.647376</td>\n",
              "      <td>-0.221929</td>\n",
              "      <td>0.062723</td>\n",
              "      <td>0.061458</td>\n",
              "      <td>123.50</td>\n",
              "      <td>0.0</td>\n",
              "    </tr>\n",
              "    <tr>\n",
              "      <th>4</th>\n",
              "      <td>2.0</td>\n",
              "      <td>-1.158233</td>\n",
              "      <td>0.877737</td>\n",
              "      <td>1.548718</td>\n",
              "      <td>0.403034</td>\n",
              "      <td>-0.407193</td>\n",
              "      <td>0.095921</td>\n",
              "      <td>0.592941</td>\n",
              "      <td>-0.270533</td>\n",
              "      <td>0.817739</td>\n",
              "      <td>...</td>\n",
              "      <td>-0.009431</td>\n",
              "      <td>0.798278</td>\n",
              "      <td>-0.137458</td>\n",
              "      <td>0.141267</td>\n",
              "      <td>-0.206010</td>\n",
              "      <td>0.502292</td>\n",
              "      <td>0.219422</td>\n",
              "      <td>0.215153</td>\n",
              "      <td>69.99</td>\n",
              "      <td>0.0</td>\n",
              "    </tr>\n",
              "  </tbody>\n",
              "</table>\n",
              "<p>5 rows × 31 columns</p>\n",
              "</div>\n",
              "      <button class=\"colab-df-convert\" onclick=\"convertToInteractive('df-7ef82913-5735-48a5-962d-bb9c449d8f4e')\"\n",
              "              title=\"Convert this dataframe to an interactive table.\"\n",
              "              style=\"display:none;\">\n",
              "        \n",
              "  <svg xmlns=\"http://www.w3.org/2000/svg\" height=\"24px\"viewBox=\"0 0 24 24\"\n",
              "       width=\"24px\">\n",
              "    <path d=\"M0 0h24v24H0V0z\" fill=\"none\"/>\n",
              "    <path d=\"M18.56 5.44l.94 2.06.94-2.06 2.06-.94-2.06-.94-.94-2.06-.94 2.06-2.06.94zm-11 1L8.5 8.5l.94-2.06 2.06-.94-2.06-.94L8.5 2.5l-.94 2.06-2.06.94zm10 10l.94 2.06.94-2.06 2.06-.94-2.06-.94-.94-2.06-.94 2.06-2.06.94z\"/><path d=\"M17.41 7.96l-1.37-1.37c-.4-.4-.92-.59-1.43-.59-.52 0-1.04.2-1.43.59L10.3 9.45l-7.72 7.72c-.78.78-.78 2.05 0 2.83L4 21.41c.39.39.9.59 1.41.59.51 0 1.02-.2 1.41-.59l7.78-7.78 2.81-2.81c.8-.78.8-2.07 0-2.86zM5.41 20L4 18.59l7.72-7.72 1.47 1.35L5.41 20z\"/>\n",
              "  </svg>\n",
              "      </button>\n",
              "      \n",
              "  <style>\n",
              "    .colab-df-container {\n",
              "      display:flex;\n",
              "      flex-wrap:wrap;\n",
              "      gap: 12px;\n",
              "    }\n",
              "\n",
              "    .colab-df-convert {\n",
              "      background-color: #E8F0FE;\n",
              "      border: none;\n",
              "      border-radius: 50%;\n",
              "      cursor: pointer;\n",
              "      display: none;\n",
              "      fill: #1967D2;\n",
              "      height: 32px;\n",
              "      padding: 0 0 0 0;\n",
              "      width: 32px;\n",
              "    }\n",
              "\n",
              "    .colab-df-convert:hover {\n",
              "      background-color: #E2EBFA;\n",
              "      box-shadow: 0px 1px 2px rgba(60, 64, 67, 0.3), 0px 1px 3px 1px rgba(60, 64, 67, 0.15);\n",
              "      fill: #174EA6;\n",
              "    }\n",
              "\n",
              "    [theme=dark] .colab-df-convert {\n",
              "      background-color: #3B4455;\n",
              "      fill: #D2E3FC;\n",
              "    }\n",
              "\n",
              "    [theme=dark] .colab-df-convert:hover {\n",
              "      background-color: #434B5C;\n",
              "      box-shadow: 0px 1px 3px 1px rgba(0, 0, 0, 0.15);\n",
              "      filter: drop-shadow(0px 1px 2px rgba(0, 0, 0, 0.3));\n",
              "      fill: #FFFFFF;\n",
              "    }\n",
              "  </style>\n",
              "\n",
              "      <script>\n",
              "        const buttonEl =\n",
              "          document.querySelector('#df-7ef82913-5735-48a5-962d-bb9c449d8f4e button.colab-df-convert');\n",
              "        buttonEl.style.display =\n",
              "          google.colab.kernel.accessAllowed ? 'block' : 'none';\n",
              "\n",
              "        async function convertToInteractive(key) {\n",
              "          const element = document.querySelector('#df-7ef82913-5735-48a5-962d-bb9c449d8f4e');\n",
              "          const dataTable =\n",
              "            await google.colab.kernel.invokeFunction('convertToInteractive',\n",
              "                                                     [key], {});\n",
              "          if (!dataTable) return;\n",
              "\n",
              "          const docLinkHtml = 'Like what you see? Visit the ' +\n",
              "            '<a target=\"_blank\" href=https://colab.research.google.com/notebooks/data_table.ipynb>data table notebook</a>'\n",
              "            + ' to learn more about interactive tables.';\n",
              "          element.innerHTML = '';\n",
              "          dataTable['output_type'] = 'display_data';\n",
              "          await google.colab.output.renderOutput(dataTable, element);\n",
              "          const docLink = document.createElement('div');\n",
              "          docLink.innerHTML = docLinkHtml;\n",
              "          element.appendChild(docLink);\n",
              "        }\n",
              "      </script>\n",
              "    </div>\n",
              "  </div>\n",
              "  "
            ]
          },
          "metadata": {},
          "execution_count": 23
        }
      ]
    },
    {
      "cell_type": "code",
      "source": [
        "credit_df.tail()"
      ],
      "metadata": {
        "colab": {
          "base_uri": "https://localhost:8080/",
          "height": 299
        },
        "id": "n5MVZVx9WCvS",
        "outputId": "1703ab91-884a-4f5b-a058-5738e4d52282"
      },
      "execution_count": 24,
      "outputs": [
        {
          "output_type": "execute_result",
          "data": {
            "text/plain": [
              "            Time        V1        V2        V3        V4        V5        V6  \\\n",
              "194189  130473.0 -2.020698  1.776253 -1.065479 -2.769201 -0.064483 -0.870269   \n",
              "194190  130473.0  2.043725 -0.099641 -1.174763  0.223753  0.079134 -0.704267   \n",
              "194191  130474.0  1.842498 -0.752856  1.137319  2.390623 -1.447940  0.953968   \n",
              "194192  130474.0  2.168959 -1.157163 -1.043238 -1.217888 -0.472766  0.536149   \n",
              "194193  130474.0 -0.301503  0.604028 -0.067684 -0.450046  0.662453 -0.282373   \n",
              "\n",
              "              V7        V8        V9  ...       V21       V22       V23  \\\n",
              "194189 -0.005058  1.350026  0.012971  ... -0.247153 -1.029805 -0.064710   \n",
              "194190  0.080115 -0.172561  0.289565  ... -0.258043 -0.637271  0.287931   \n",
              "194191 -1.573333  0.401153  1.289612  ...  0.004503  0.454859  0.258029   \n",
              "194192 -1.216259  0.217502  0.057792  ...  0.304777  0.838372  0.036949   \n",
              "194193  0.964187 -0.131715 -0.258089  ... -0.031390 -0.084385  0.154369   \n",
              "\n",
              "             V24       V25       V26       V27       V28  Amount  Class  \n",
              "194189 -1.083659  0.132321  0.436510  0.046391  0.073014    1.00    0.0  \n",
              "194190 -0.333452 -0.282316  0.198073 -0.074182 -0.073311    0.89    0.0  \n",
              "194191  0.038701 -0.774425  2.331048 -0.083683 -0.050854   21.71    0.0  \n",
              "194192 -0.342829 -0.071414 -0.070816 -0.004231 -0.061583   24.99    0.0  \n",
              "194193       NaN       NaN       NaN       NaN       NaN     NaN    NaN  \n",
              "\n",
              "[5 rows x 31 columns]"
            ],
            "text/html": [
              "\n",
              "  <div id=\"df-1c76fb93-5076-497e-82ea-70ca98c5982d\">\n",
              "    <div class=\"colab-df-container\">\n",
              "      <div>\n",
              "<style scoped>\n",
              "    .dataframe tbody tr th:only-of-type {\n",
              "        vertical-align: middle;\n",
              "    }\n",
              "\n",
              "    .dataframe tbody tr th {\n",
              "        vertical-align: top;\n",
              "    }\n",
              "\n",
              "    .dataframe thead th {\n",
              "        text-align: right;\n",
              "    }\n",
              "</style>\n",
              "<table border=\"1\" class=\"dataframe\">\n",
              "  <thead>\n",
              "    <tr style=\"text-align: right;\">\n",
              "      <th></th>\n",
              "      <th>Time</th>\n",
              "      <th>V1</th>\n",
              "      <th>V2</th>\n",
              "      <th>V3</th>\n",
              "      <th>V4</th>\n",
              "      <th>V5</th>\n",
              "      <th>V6</th>\n",
              "      <th>V7</th>\n",
              "      <th>V8</th>\n",
              "      <th>V9</th>\n",
              "      <th>...</th>\n",
              "      <th>V21</th>\n",
              "      <th>V22</th>\n",
              "      <th>V23</th>\n",
              "      <th>V24</th>\n",
              "      <th>V25</th>\n",
              "      <th>V26</th>\n",
              "      <th>V27</th>\n",
              "      <th>V28</th>\n",
              "      <th>Amount</th>\n",
              "      <th>Class</th>\n",
              "    </tr>\n",
              "  </thead>\n",
              "  <tbody>\n",
              "    <tr>\n",
              "      <th>194189</th>\n",
              "      <td>130473.0</td>\n",
              "      <td>-2.020698</td>\n",
              "      <td>1.776253</td>\n",
              "      <td>-1.065479</td>\n",
              "      <td>-2.769201</td>\n",
              "      <td>-0.064483</td>\n",
              "      <td>-0.870269</td>\n",
              "      <td>-0.005058</td>\n",
              "      <td>1.350026</td>\n",
              "      <td>0.012971</td>\n",
              "      <td>...</td>\n",
              "      <td>-0.247153</td>\n",
              "      <td>-1.029805</td>\n",
              "      <td>-0.064710</td>\n",
              "      <td>-1.083659</td>\n",
              "      <td>0.132321</td>\n",
              "      <td>0.436510</td>\n",
              "      <td>0.046391</td>\n",
              "      <td>0.073014</td>\n",
              "      <td>1.00</td>\n",
              "      <td>0.0</td>\n",
              "    </tr>\n",
              "    <tr>\n",
              "      <th>194190</th>\n",
              "      <td>130473.0</td>\n",
              "      <td>2.043725</td>\n",
              "      <td>-0.099641</td>\n",
              "      <td>-1.174763</td>\n",
              "      <td>0.223753</td>\n",
              "      <td>0.079134</td>\n",
              "      <td>-0.704267</td>\n",
              "      <td>0.080115</td>\n",
              "      <td>-0.172561</td>\n",
              "      <td>0.289565</td>\n",
              "      <td>...</td>\n",
              "      <td>-0.258043</td>\n",
              "      <td>-0.637271</td>\n",
              "      <td>0.287931</td>\n",
              "      <td>-0.333452</td>\n",
              "      <td>-0.282316</td>\n",
              "      <td>0.198073</td>\n",
              "      <td>-0.074182</td>\n",
              "      <td>-0.073311</td>\n",
              "      <td>0.89</td>\n",
              "      <td>0.0</td>\n",
              "    </tr>\n",
              "    <tr>\n",
              "      <th>194191</th>\n",
              "      <td>130474.0</td>\n",
              "      <td>1.842498</td>\n",
              "      <td>-0.752856</td>\n",
              "      <td>1.137319</td>\n",
              "      <td>2.390623</td>\n",
              "      <td>-1.447940</td>\n",
              "      <td>0.953968</td>\n",
              "      <td>-1.573333</td>\n",
              "      <td>0.401153</td>\n",
              "      <td>1.289612</td>\n",
              "      <td>...</td>\n",
              "      <td>0.004503</td>\n",
              "      <td>0.454859</td>\n",
              "      <td>0.258029</td>\n",
              "      <td>0.038701</td>\n",
              "      <td>-0.774425</td>\n",
              "      <td>2.331048</td>\n",
              "      <td>-0.083683</td>\n",
              "      <td>-0.050854</td>\n",
              "      <td>21.71</td>\n",
              "      <td>0.0</td>\n",
              "    </tr>\n",
              "    <tr>\n",
              "      <th>194192</th>\n",
              "      <td>130474.0</td>\n",
              "      <td>2.168959</td>\n",
              "      <td>-1.157163</td>\n",
              "      <td>-1.043238</td>\n",
              "      <td>-1.217888</td>\n",
              "      <td>-0.472766</td>\n",
              "      <td>0.536149</td>\n",
              "      <td>-1.216259</td>\n",
              "      <td>0.217502</td>\n",
              "      <td>0.057792</td>\n",
              "      <td>...</td>\n",
              "      <td>0.304777</td>\n",
              "      <td>0.838372</td>\n",
              "      <td>0.036949</td>\n",
              "      <td>-0.342829</td>\n",
              "      <td>-0.071414</td>\n",
              "      <td>-0.070816</td>\n",
              "      <td>-0.004231</td>\n",
              "      <td>-0.061583</td>\n",
              "      <td>24.99</td>\n",
              "      <td>0.0</td>\n",
              "    </tr>\n",
              "    <tr>\n",
              "      <th>194193</th>\n",
              "      <td>130474.0</td>\n",
              "      <td>-0.301503</td>\n",
              "      <td>0.604028</td>\n",
              "      <td>-0.067684</td>\n",
              "      <td>-0.450046</td>\n",
              "      <td>0.662453</td>\n",
              "      <td>-0.282373</td>\n",
              "      <td>0.964187</td>\n",
              "      <td>-0.131715</td>\n",
              "      <td>-0.258089</td>\n",
              "      <td>...</td>\n",
              "      <td>-0.031390</td>\n",
              "      <td>-0.084385</td>\n",
              "      <td>0.154369</td>\n",
              "      <td>NaN</td>\n",
              "      <td>NaN</td>\n",
              "      <td>NaN</td>\n",
              "      <td>NaN</td>\n",
              "      <td>NaN</td>\n",
              "      <td>NaN</td>\n",
              "      <td>NaN</td>\n",
              "    </tr>\n",
              "  </tbody>\n",
              "</table>\n",
              "<p>5 rows × 31 columns</p>\n",
              "</div>\n",
              "      <button class=\"colab-df-convert\" onclick=\"convertToInteractive('df-1c76fb93-5076-497e-82ea-70ca98c5982d')\"\n",
              "              title=\"Convert this dataframe to an interactive table.\"\n",
              "              style=\"display:none;\">\n",
              "        \n",
              "  <svg xmlns=\"http://www.w3.org/2000/svg\" height=\"24px\"viewBox=\"0 0 24 24\"\n",
              "       width=\"24px\">\n",
              "    <path d=\"M0 0h24v24H0V0z\" fill=\"none\"/>\n",
              "    <path d=\"M18.56 5.44l.94 2.06.94-2.06 2.06-.94-2.06-.94-.94-2.06-.94 2.06-2.06.94zm-11 1L8.5 8.5l.94-2.06 2.06-.94-2.06-.94L8.5 2.5l-.94 2.06-2.06.94zm10 10l.94 2.06.94-2.06 2.06-.94-2.06-.94-.94-2.06-.94 2.06-2.06.94z\"/><path d=\"M17.41 7.96l-1.37-1.37c-.4-.4-.92-.59-1.43-.59-.52 0-1.04.2-1.43.59L10.3 9.45l-7.72 7.72c-.78.78-.78 2.05 0 2.83L4 21.41c.39.39.9.59 1.41.59.51 0 1.02-.2 1.41-.59l7.78-7.78 2.81-2.81c.8-.78.8-2.07 0-2.86zM5.41 20L4 18.59l7.72-7.72 1.47 1.35L5.41 20z\"/>\n",
              "  </svg>\n",
              "      </button>\n",
              "      \n",
              "  <style>\n",
              "    .colab-df-container {\n",
              "      display:flex;\n",
              "      flex-wrap:wrap;\n",
              "      gap: 12px;\n",
              "    }\n",
              "\n",
              "    .colab-df-convert {\n",
              "      background-color: #E8F0FE;\n",
              "      border: none;\n",
              "      border-radius: 50%;\n",
              "      cursor: pointer;\n",
              "      display: none;\n",
              "      fill: #1967D2;\n",
              "      height: 32px;\n",
              "      padding: 0 0 0 0;\n",
              "      width: 32px;\n",
              "    }\n",
              "\n",
              "    .colab-df-convert:hover {\n",
              "      background-color: #E2EBFA;\n",
              "      box-shadow: 0px 1px 2px rgba(60, 64, 67, 0.3), 0px 1px 3px 1px rgba(60, 64, 67, 0.15);\n",
              "      fill: #174EA6;\n",
              "    }\n",
              "\n",
              "    [theme=dark] .colab-df-convert {\n",
              "      background-color: #3B4455;\n",
              "      fill: #D2E3FC;\n",
              "    }\n",
              "\n",
              "    [theme=dark] .colab-df-convert:hover {\n",
              "      background-color: #434B5C;\n",
              "      box-shadow: 0px 1px 3px 1px rgba(0, 0, 0, 0.15);\n",
              "      filter: drop-shadow(0px 1px 2px rgba(0, 0, 0, 0.3));\n",
              "      fill: #FFFFFF;\n",
              "    }\n",
              "  </style>\n",
              "\n",
              "      <script>\n",
              "        const buttonEl =\n",
              "          document.querySelector('#df-1c76fb93-5076-497e-82ea-70ca98c5982d button.colab-df-convert');\n",
              "        buttonEl.style.display =\n",
              "          google.colab.kernel.accessAllowed ? 'block' : 'none';\n",
              "\n",
              "        async function convertToInteractive(key) {\n",
              "          const element = document.querySelector('#df-1c76fb93-5076-497e-82ea-70ca98c5982d');\n",
              "          const dataTable =\n",
              "            await google.colab.kernel.invokeFunction('convertToInteractive',\n",
              "                                                     [key], {});\n",
              "          if (!dataTable) return;\n",
              "\n",
              "          const docLinkHtml = 'Like what you see? Visit the ' +\n",
              "            '<a target=\"_blank\" href=https://colab.research.google.com/notebooks/data_table.ipynb>data table notebook</a>'\n",
              "            + ' to learn more about interactive tables.';\n",
              "          element.innerHTML = '';\n",
              "          dataTable['output_type'] = 'display_data';\n",
              "          await google.colab.output.renderOutput(dataTable, element);\n",
              "          const docLink = document.createElement('div');\n",
              "          docLink.innerHTML = docLinkHtml;\n",
              "          element.appendChild(docLink);\n",
              "        }\n",
              "      </script>\n",
              "    </div>\n",
              "  </div>\n",
              "  "
            ]
          },
          "metadata": {},
          "execution_count": 24
        }
      ]
    },
    {
      "cell_type": "code",
      "source": [
        "credit_df.info()"
      ],
      "metadata": {
        "colab": {
          "base_uri": "https://localhost:8080/"
        },
        "id": "Q7LmjgR-Ujr1",
        "outputId": "37087b09-6734-4c91-f632-efda61234308"
      },
      "execution_count": 25,
      "outputs": [
        {
          "output_type": "stream",
          "name": "stdout",
          "text": [
            "<class 'pandas.core.frame.DataFrame'>\n",
            "RangeIndex: 194194 entries, 0 to 194193\n",
            "Data columns (total 31 columns):\n",
            " #   Column  Non-Null Count   Dtype  \n",
            "---  ------  --------------   -----  \n",
            " 0   Time    194194 non-null  float64\n",
            " 1   V1      194194 non-null  float64\n",
            " 2   V2      194194 non-null  float64\n",
            " 3   V3      194194 non-null  float64\n",
            " 4   V4      194194 non-null  float64\n",
            " 5   V5      194194 non-null  float64\n",
            " 6   V6      194194 non-null  float64\n",
            " 7   V7      194194 non-null  float64\n",
            " 8   V8      194194 non-null  float64\n",
            " 9   V9      194194 non-null  float64\n",
            " 10  V10     194194 non-null  float64\n",
            " 11  V11     194194 non-null  float64\n",
            " 12  V12     194194 non-null  float64\n",
            " 13  V13     194194 non-null  float64\n",
            " 14  V14     194194 non-null  float64\n",
            " 15  V15     194194 non-null  float64\n",
            " 16  V16     194194 non-null  float64\n",
            " 17  V17     194194 non-null  float64\n",
            " 18  V18     194194 non-null  float64\n",
            " 19  V19     194194 non-null  float64\n",
            " 20  V20     194194 non-null  float64\n",
            " 21  V21     194194 non-null  float64\n",
            " 22  V22     194194 non-null  float64\n",
            " 23  V23     194194 non-null  float64\n",
            " 24  V24     194193 non-null  float64\n",
            " 25  V25     194193 non-null  float64\n",
            " 26  V26     194193 non-null  float64\n",
            " 27  V27     194193 non-null  float64\n",
            " 28  V28     194193 non-null  float64\n",
            " 29  Amount  194193 non-null  float64\n",
            " 30  Class   194193 non-null  float64\n",
            "dtypes: float64(31)\n",
            "memory usage: 45.9 MB\n"
          ]
        }
      ]
    },
    {
      "cell_type": "code",
      "source": [
        "credit_df.isnull().sum()"
      ],
      "metadata": {
        "colab": {
          "base_uri": "https://localhost:8080/"
        },
        "id": "fScTZauNU6M0",
        "outputId": "4841fe82-e73d-4b62-883b-43be36ac2ffb"
      },
      "execution_count": 28,
      "outputs": [
        {
          "output_type": "execute_result",
          "data": {
            "text/plain": [
              "Time      0\n",
              "V1        0\n",
              "V2        0\n",
              "V3        0\n",
              "V4        0\n",
              "V5        0\n",
              "V6        0\n",
              "V7        0\n",
              "V8        0\n",
              "V9        0\n",
              "V10       0\n",
              "V11       0\n",
              "V12       0\n",
              "V13       0\n",
              "V14       0\n",
              "V15       0\n",
              "V16       0\n",
              "V17       0\n",
              "V18       0\n",
              "V19       0\n",
              "V20       0\n",
              "V21       0\n",
              "V22       0\n",
              "V23       0\n",
              "V24       1\n",
              "V25       1\n",
              "V26       1\n",
              "V27       1\n",
              "V28       1\n",
              "Amount    1\n",
              "Class     1\n",
              "dtype: int64"
            ]
          },
          "metadata": {},
          "execution_count": 28
        }
      ]
    },
    {
      "cell_type": "code",
      "source": [
        "# distribution of legit transaction & fraudulent transations\n",
        "credit_df['Class'].value_counts()"
      ],
      "metadata": {
        "colab": {
          "base_uri": "https://localhost:8080/"
        },
        "id": "nQ8PwybuWXwY",
        "outputId": "6f4fe108-7036-4247-872d-91f44b59f5a5"
      },
      "execution_count": 29,
      "outputs": [
        {
          "output_type": "execute_result",
          "data": {
            "text/plain": [
              "0.0    193812\n",
              "1.0       381\n",
              "Name: Class, dtype: int64"
            ]
          },
          "metadata": {},
          "execution_count": 29
        }
      ]
    },
    {
      "cell_type": "markdown",
      "source": [
        "this dataset is highly unbalenced dataset\n",
        "0...>normal Trasaction\n",
        "1...>fraudulent transaction"
      ],
      "metadata": {
        "id": "HEen1DjLkPsO"
      }
    },
    {
      "cell_type": "code",
      "source": [
        "#separating the data for analysis\n",
        "legit = credit_df[credit_df.Class ==0]\n",
        "fraud = credit_df[credit_df.Class ==1]"
      ],
      "metadata": {
        "id": "BBk14wpHjJ83"
      },
      "execution_count": 30,
      "outputs": []
    },
    {
      "cell_type": "code",
      "source": [
        "\n",
        "print(legit.shape)\n",
        "print(fraud.shape)"
      ],
      "metadata": {
        "colab": {
          "base_uri": "https://localhost:8080/"
        },
        "id": "8MtWetqWmLvr",
        "outputId": "8e8a6d61-6cf3-44a1-8cf8-fba23f86777b"
      },
      "execution_count": 31,
      "outputs": [
        {
          "output_type": "stream",
          "name": "stdout",
          "text": [
            "(193812, 31)\n",
            "(381, 31)\n"
          ]
        }
      ]
    },
    {
      "cell_type": "code",
      "source": [
        "#statistical measures of the data\n",
        "legit.Amount.describe()"
      ],
      "metadata": {
        "colab": {
          "base_uri": "https://localhost:8080/"
        },
        "id": "r69DV02MnfY7",
        "outputId": "d45be0ab-f5e0-4103-eeb7-5129d3c48d0f"
      },
      "execution_count": 32,
      "outputs": [
        {
          "output_type": "execute_result",
          "data": {
            "text/plain": [
              "count    193812.000000\n",
              "mean         89.425440\n",
              "std         248.512542\n",
              "min           0.000000\n",
              "25%           5.990000\n",
              "50%          22.900000\n",
              "75%          79.000000\n",
              "max       19656.530000\n",
              "Name: Amount, dtype: float64"
            ]
          },
          "metadata": {},
          "execution_count": 32
        }
      ]
    },
    {
      "cell_type": "code",
      "source": [
        "fraud.Amount.describe()"
      ],
      "metadata": {
        "colab": {
          "base_uri": "https://localhost:8080/"
        },
        "id": "ym7aI_rHonr8",
        "outputId": "8518183b-8746-47f0-9a82-77137744418a"
      },
      "execution_count": 33,
      "outputs": [
        {
          "output_type": "execute_result",
          "data": {
            "text/plain": [
              "count     381.000000\n",
              "mean      116.421155\n",
              "std       247.034583\n",
              "min         0.000000\n",
              "25%         1.000000\n",
              "50%        11.400000\n",
              "75%       104.030000\n",
              "max      2125.870000\n",
              "Name: Amount, dtype: float64"
            ]
          },
          "metadata": {},
          "execution_count": 33
        }
      ]
    },
    {
      "cell_type": "code",
      "source": [
        "#compare the values for both transactions\n",
        "credit_df.groupby('Class').mean()"
      ],
      "metadata": {
        "colab": {
          "base_uri": "https://localhost:8080/",
          "height": 237
        },
        "id": "febkw8SFpQVb",
        "outputId": "c0d31f69-ab9c-400d-a25d-e24efbc8ca0f"
      },
      "execution_count": 34,
      "outputs": [
        {
          "output_type": "execute_result",
          "data": {
            "text/plain": [
              "               Time        V1        V2        V3        V4        V5  \\\n",
              "Class                                                                   \n",
              "0.0    68829.705849 -0.104350 -0.000903  0.365061  0.074709 -0.114775   \n",
              "1.0    60541.997375 -5.755911  4.243874 -7.768470  4.780104 -4.143295   \n",
              "\n",
              "             V6        V7        V8        V9  ...       V20       V21  \\\n",
              "Class                                          ...                       \n",
              "0.0    0.051884 -0.043405  0.018985  0.015904  ...  0.020889 -0.018183   \n",
              "1.0   -1.408967 -6.702717  0.703757 -2.780511  ...  0.382486  0.798233   \n",
              "\n",
              "            V22       V23       V24       V25       V26       V27       V28  \\\n",
              "Class                                                                         \n",
              "0.0   -0.053682 -0.017107  0.005055  0.065969  0.007215  0.000952  0.002047   \n",
              "1.0   -0.021515 -0.038763 -0.066856  0.074069  0.041146  0.177640  0.056083   \n",
              "\n",
              "           Amount  \n",
              "Class              \n",
              "0.0     89.425440  \n",
              "1.0    116.421155  \n",
              "\n",
              "[2 rows x 30 columns]"
            ],
            "text/html": [
              "\n",
              "  <div id=\"df-c10fe114-42c3-464d-a6bb-d14b4f8654e1\">\n",
              "    <div class=\"colab-df-container\">\n",
              "      <div>\n",
              "<style scoped>\n",
              "    .dataframe tbody tr th:only-of-type {\n",
              "        vertical-align: middle;\n",
              "    }\n",
              "\n",
              "    .dataframe tbody tr th {\n",
              "        vertical-align: top;\n",
              "    }\n",
              "\n",
              "    .dataframe thead th {\n",
              "        text-align: right;\n",
              "    }\n",
              "</style>\n",
              "<table border=\"1\" class=\"dataframe\">\n",
              "  <thead>\n",
              "    <tr style=\"text-align: right;\">\n",
              "      <th></th>\n",
              "      <th>Time</th>\n",
              "      <th>V1</th>\n",
              "      <th>V2</th>\n",
              "      <th>V3</th>\n",
              "      <th>V4</th>\n",
              "      <th>V5</th>\n",
              "      <th>V6</th>\n",
              "      <th>V7</th>\n",
              "      <th>V8</th>\n",
              "      <th>V9</th>\n",
              "      <th>...</th>\n",
              "      <th>V20</th>\n",
              "      <th>V21</th>\n",
              "      <th>V22</th>\n",
              "      <th>V23</th>\n",
              "      <th>V24</th>\n",
              "      <th>V25</th>\n",
              "      <th>V26</th>\n",
              "      <th>V27</th>\n",
              "      <th>V28</th>\n",
              "      <th>Amount</th>\n",
              "    </tr>\n",
              "    <tr>\n",
              "      <th>Class</th>\n",
              "      <th></th>\n",
              "      <th></th>\n",
              "      <th></th>\n",
              "      <th></th>\n",
              "      <th></th>\n",
              "      <th></th>\n",
              "      <th></th>\n",
              "      <th></th>\n",
              "      <th></th>\n",
              "      <th></th>\n",
              "      <th></th>\n",
              "      <th></th>\n",
              "      <th></th>\n",
              "      <th></th>\n",
              "      <th></th>\n",
              "      <th></th>\n",
              "      <th></th>\n",
              "      <th></th>\n",
              "      <th></th>\n",
              "      <th></th>\n",
              "      <th></th>\n",
              "    </tr>\n",
              "  </thead>\n",
              "  <tbody>\n",
              "    <tr>\n",
              "      <th>0.0</th>\n",
              "      <td>68829.705849</td>\n",
              "      <td>-0.104350</td>\n",
              "      <td>-0.000903</td>\n",
              "      <td>0.365061</td>\n",
              "      <td>0.074709</td>\n",
              "      <td>-0.114775</td>\n",
              "      <td>0.051884</td>\n",
              "      <td>-0.043405</td>\n",
              "      <td>0.018985</td>\n",
              "      <td>0.015904</td>\n",
              "      <td>...</td>\n",
              "      <td>0.020889</td>\n",
              "      <td>-0.018183</td>\n",
              "      <td>-0.053682</td>\n",
              "      <td>-0.017107</td>\n",
              "      <td>0.005055</td>\n",
              "      <td>0.065969</td>\n",
              "      <td>0.007215</td>\n",
              "      <td>0.000952</td>\n",
              "      <td>0.002047</td>\n",
              "      <td>89.425440</td>\n",
              "    </tr>\n",
              "    <tr>\n",
              "      <th>1.0</th>\n",
              "      <td>60541.997375</td>\n",
              "      <td>-5.755911</td>\n",
              "      <td>4.243874</td>\n",
              "      <td>-7.768470</td>\n",
              "      <td>4.780104</td>\n",
              "      <td>-4.143295</td>\n",
              "      <td>-1.408967</td>\n",
              "      <td>-6.702717</td>\n",
              "      <td>0.703757</td>\n",
              "      <td>-2.780511</td>\n",
              "      <td>...</td>\n",
              "      <td>0.382486</td>\n",
              "      <td>0.798233</td>\n",
              "      <td>-0.021515</td>\n",
              "      <td>-0.038763</td>\n",
              "      <td>-0.066856</td>\n",
              "      <td>0.074069</td>\n",
              "      <td>0.041146</td>\n",
              "      <td>0.177640</td>\n",
              "      <td>0.056083</td>\n",
              "      <td>116.421155</td>\n",
              "    </tr>\n",
              "  </tbody>\n",
              "</table>\n",
              "<p>2 rows × 30 columns</p>\n",
              "</div>\n",
              "      <button class=\"colab-df-convert\" onclick=\"convertToInteractive('df-c10fe114-42c3-464d-a6bb-d14b4f8654e1')\"\n",
              "              title=\"Convert this dataframe to an interactive table.\"\n",
              "              style=\"display:none;\">\n",
              "        \n",
              "  <svg xmlns=\"http://www.w3.org/2000/svg\" height=\"24px\"viewBox=\"0 0 24 24\"\n",
              "       width=\"24px\">\n",
              "    <path d=\"M0 0h24v24H0V0z\" fill=\"none\"/>\n",
              "    <path d=\"M18.56 5.44l.94 2.06.94-2.06 2.06-.94-2.06-.94-.94-2.06-.94 2.06-2.06.94zm-11 1L8.5 8.5l.94-2.06 2.06-.94-2.06-.94L8.5 2.5l-.94 2.06-2.06.94zm10 10l.94 2.06.94-2.06 2.06-.94-2.06-.94-.94-2.06-.94 2.06-2.06.94z\"/><path d=\"M17.41 7.96l-1.37-1.37c-.4-.4-.92-.59-1.43-.59-.52 0-1.04.2-1.43.59L10.3 9.45l-7.72 7.72c-.78.78-.78 2.05 0 2.83L4 21.41c.39.39.9.59 1.41.59.51 0 1.02-.2 1.41-.59l7.78-7.78 2.81-2.81c.8-.78.8-2.07 0-2.86zM5.41 20L4 18.59l7.72-7.72 1.47 1.35L5.41 20z\"/>\n",
              "  </svg>\n",
              "      </button>\n",
              "      \n",
              "  <style>\n",
              "    .colab-df-container {\n",
              "      display:flex;\n",
              "      flex-wrap:wrap;\n",
              "      gap: 12px;\n",
              "    }\n",
              "\n",
              "    .colab-df-convert {\n",
              "      background-color: #E8F0FE;\n",
              "      border: none;\n",
              "      border-radius: 50%;\n",
              "      cursor: pointer;\n",
              "      display: none;\n",
              "      fill: #1967D2;\n",
              "      height: 32px;\n",
              "      padding: 0 0 0 0;\n",
              "      width: 32px;\n",
              "    }\n",
              "\n",
              "    .colab-df-convert:hover {\n",
              "      background-color: #E2EBFA;\n",
              "      box-shadow: 0px 1px 2px rgba(60, 64, 67, 0.3), 0px 1px 3px 1px rgba(60, 64, 67, 0.15);\n",
              "      fill: #174EA6;\n",
              "    }\n",
              "\n",
              "    [theme=dark] .colab-df-convert {\n",
              "      background-color: #3B4455;\n",
              "      fill: #D2E3FC;\n",
              "    }\n",
              "\n",
              "    [theme=dark] .colab-df-convert:hover {\n",
              "      background-color: #434B5C;\n",
              "      box-shadow: 0px 1px 3px 1px rgba(0, 0, 0, 0.15);\n",
              "      filter: drop-shadow(0px 1px 2px rgba(0, 0, 0, 0.3));\n",
              "      fill: #FFFFFF;\n",
              "    }\n",
              "  </style>\n",
              "\n",
              "      <script>\n",
              "        const buttonEl =\n",
              "          document.querySelector('#df-c10fe114-42c3-464d-a6bb-d14b4f8654e1 button.colab-df-convert');\n",
              "        buttonEl.style.display =\n",
              "          google.colab.kernel.accessAllowed ? 'block' : 'none';\n",
              "\n",
              "        async function convertToInteractive(key) {\n",
              "          const element = document.querySelector('#df-c10fe114-42c3-464d-a6bb-d14b4f8654e1');\n",
              "          const dataTable =\n",
              "            await google.colab.kernel.invokeFunction('convertToInteractive',\n",
              "                                                     [key], {});\n",
              "          if (!dataTable) return;\n",
              "\n",
              "          const docLinkHtml = 'Like what you see? Visit the ' +\n",
              "            '<a target=\"_blank\" href=https://colab.research.google.com/notebooks/data_table.ipynb>data table notebook</a>'\n",
              "            + ' to learn more about interactive tables.';\n",
              "          element.innerHTML = '';\n",
              "          dataTable['output_type'] = 'display_data';\n",
              "          await google.colab.output.renderOutput(dataTable, element);\n",
              "          const docLink = document.createElement('div');\n",
              "          docLink.innerHTML = docLinkHtml;\n",
              "          element.appendChild(docLink);\n",
              "        }\n",
              "      </script>\n",
              "    </div>\n",
              "  </div>\n",
              "  "
            ]
          },
          "metadata": {},
          "execution_count": 34
        }
      ]
    },
    {
      "cell_type": "markdown",
      "source": [
        "under-sampling"
      ],
      "metadata": {
        "id": "qr0vwQa6tynB"
      }
    },
    {
      "cell_type": "code",
      "source": [
        "#dealing of unbalencing data\n",
        "#Build a sample dataset containing similar distribution normal transaactions and fraudulent transations\n",
        "# number of Frraudulent Transactions..>381\n",
        "legit_sample = legit.sample(n = 381)\n"
      ],
      "metadata": {
        "id": "26AhWaPXtge5"
      },
      "execution_count": 35,
      "outputs": []
    },
    {
      "cell_type": "markdown",
      "source": [
        "concatenating two dataaframes"
      ],
      "metadata": {
        "id": "4YsxYKbP0UHj"
      }
    },
    {
      "cell_type": "code",
      "source": [
        "new_df = pd.concat([legit_sample,fraud],axis = 0)# concat by row wise"
      ],
      "metadata": {
        "id": "cfJn_8EB0jOC"
      },
      "execution_count": 37,
      "outputs": []
    },
    {
      "cell_type": "code",
      "source": [
        "new_df.head()"
      ],
      "metadata": {
        "colab": {
          "base_uri": "https://localhost:8080/",
          "height": 299
        },
        "id": "f5urCQUqAdHa",
        "outputId": "8036ab60-6392-4095-ace2-523b9dea639e"
      },
      "execution_count": 40,
      "outputs": [
        {
          "output_type": "execute_result",
          "data": {
            "text/plain": [
              "           Time        V1        V2        V3        V4        V5        V6  \\\n",
              "9330    13515.0  1.223788  0.012901  0.874744  0.319244 -0.806493 -0.870352   \n",
              "56437   47426.0  0.800442 -1.252205  1.094588  0.623545 -1.865902 -0.370191   \n",
              "82003   59200.0 -1.937216 -1.090807  2.829094  0.016414  0.942303 -1.111521   \n",
              "109644  71472.0 -1.498785 -0.179831  2.064451 -0.781757 -0.853080 -0.457872   \n",
              "23661   32856.0 -0.427956  0.139273  0.271464  0.264618  2.067942  4.329715   \n",
              "\n",
              "              V7        V8        V9  ...       V21       V22       V23  \\\n",
              "9330   -0.354155 -0.202414  1.682257  ... -0.332747 -0.777476  0.149688   \n",
              "56437  -0.686096  0.163629  1.785389  ...  0.063924  0.022568 -0.180673   \n",
              "82003  -1.020935  0.442021  0.396492  ...  0.306674  0.475138  0.006875   \n",
              "109644 -0.473030  0.806431  0.434703  ...  0.004831 -0.325278  0.038580   \n",
              "23661  -0.097858  1.083976  0.083300  ...  0.017318  0.078298  0.007764   \n",
              "\n",
              "             V24       V25       V26       V27       V28  Amount  Class  \n",
              "9330    0.367724 -0.024413  0.747671 -0.093793  0.012013   26.56    0.0  \n",
              "56437   0.779669  0.172669  1.164444 -0.075599  0.041924  202.00    0.0  \n",
              "82003   0.420002  0.257028  0.502039 -0.022188  0.093393    0.10    0.0  \n",
              "109644  0.549890 -0.232412  0.752279 -0.123714 -0.063986   50.94    0.0  \n",
              "23661   1.020045 -0.062500 -0.280870  0.187867  0.170118   87.00    0.0  \n",
              "\n",
              "[5 rows x 31 columns]"
            ],
            "text/html": [
              "\n",
              "  <div id=\"df-e4d5d215-874d-4f8f-93a1-b657b06f6579\">\n",
              "    <div class=\"colab-df-container\">\n",
              "      <div>\n",
              "<style scoped>\n",
              "    .dataframe tbody tr th:only-of-type {\n",
              "        vertical-align: middle;\n",
              "    }\n",
              "\n",
              "    .dataframe tbody tr th {\n",
              "        vertical-align: top;\n",
              "    }\n",
              "\n",
              "    .dataframe thead th {\n",
              "        text-align: right;\n",
              "    }\n",
              "</style>\n",
              "<table border=\"1\" class=\"dataframe\">\n",
              "  <thead>\n",
              "    <tr style=\"text-align: right;\">\n",
              "      <th></th>\n",
              "      <th>Time</th>\n",
              "      <th>V1</th>\n",
              "      <th>V2</th>\n",
              "      <th>V3</th>\n",
              "      <th>V4</th>\n",
              "      <th>V5</th>\n",
              "      <th>V6</th>\n",
              "      <th>V7</th>\n",
              "      <th>V8</th>\n",
              "      <th>V9</th>\n",
              "      <th>...</th>\n",
              "      <th>V21</th>\n",
              "      <th>V22</th>\n",
              "      <th>V23</th>\n",
              "      <th>V24</th>\n",
              "      <th>V25</th>\n",
              "      <th>V26</th>\n",
              "      <th>V27</th>\n",
              "      <th>V28</th>\n",
              "      <th>Amount</th>\n",
              "      <th>Class</th>\n",
              "    </tr>\n",
              "  </thead>\n",
              "  <tbody>\n",
              "    <tr>\n",
              "      <th>9330</th>\n",
              "      <td>13515.0</td>\n",
              "      <td>1.223788</td>\n",
              "      <td>0.012901</td>\n",
              "      <td>0.874744</td>\n",
              "      <td>0.319244</td>\n",
              "      <td>-0.806493</td>\n",
              "      <td>-0.870352</td>\n",
              "      <td>-0.354155</td>\n",
              "      <td>-0.202414</td>\n",
              "      <td>1.682257</td>\n",
              "      <td>...</td>\n",
              "      <td>-0.332747</td>\n",
              "      <td>-0.777476</td>\n",
              "      <td>0.149688</td>\n",
              "      <td>0.367724</td>\n",
              "      <td>-0.024413</td>\n",
              "      <td>0.747671</td>\n",
              "      <td>-0.093793</td>\n",
              "      <td>0.012013</td>\n",
              "      <td>26.56</td>\n",
              "      <td>0.0</td>\n",
              "    </tr>\n",
              "    <tr>\n",
              "      <th>56437</th>\n",
              "      <td>47426.0</td>\n",
              "      <td>0.800442</td>\n",
              "      <td>-1.252205</td>\n",
              "      <td>1.094588</td>\n",
              "      <td>0.623545</td>\n",
              "      <td>-1.865902</td>\n",
              "      <td>-0.370191</td>\n",
              "      <td>-0.686096</td>\n",
              "      <td>0.163629</td>\n",
              "      <td>1.785389</td>\n",
              "      <td>...</td>\n",
              "      <td>0.063924</td>\n",
              "      <td>0.022568</td>\n",
              "      <td>-0.180673</td>\n",
              "      <td>0.779669</td>\n",
              "      <td>0.172669</td>\n",
              "      <td>1.164444</td>\n",
              "      <td>-0.075599</td>\n",
              "      <td>0.041924</td>\n",
              "      <td>202.00</td>\n",
              "      <td>0.0</td>\n",
              "    </tr>\n",
              "    <tr>\n",
              "      <th>82003</th>\n",
              "      <td>59200.0</td>\n",
              "      <td>-1.937216</td>\n",
              "      <td>-1.090807</td>\n",
              "      <td>2.829094</td>\n",
              "      <td>0.016414</td>\n",
              "      <td>0.942303</td>\n",
              "      <td>-1.111521</td>\n",
              "      <td>-1.020935</td>\n",
              "      <td>0.442021</td>\n",
              "      <td>0.396492</td>\n",
              "      <td>...</td>\n",
              "      <td>0.306674</td>\n",
              "      <td>0.475138</td>\n",
              "      <td>0.006875</td>\n",
              "      <td>0.420002</td>\n",
              "      <td>0.257028</td>\n",
              "      <td>0.502039</td>\n",
              "      <td>-0.022188</td>\n",
              "      <td>0.093393</td>\n",
              "      <td>0.10</td>\n",
              "      <td>0.0</td>\n",
              "    </tr>\n",
              "    <tr>\n",
              "      <th>109644</th>\n",
              "      <td>71472.0</td>\n",
              "      <td>-1.498785</td>\n",
              "      <td>-0.179831</td>\n",
              "      <td>2.064451</td>\n",
              "      <td>-0.781757</td>\n",
              "      <td>-0.853080</td>\n",
              "      <td>-0.457872</td>\n",
              "      <td>-0.473030</td>\n",
              "      <td>0.806431</td>\n",
              "      <td>0.434703</td>\n",
              "      <td>...</td>\n",
              "      <td>0.004831</td>\n",
              "      <td>-0.325278</td>\n",
              "      <td>0.038580</td>\n",
              "      <td>0.549890</td>\n",
              "      <td>-0.232412</td>\n",
              "      <td>0.752279</td>\n",
              "      <td>-0.123714</td>\n",
              "      <td>-0.063986</td>\n",
              "      <td>50.94</td>\n",
              "      <td>0.0</td>\n",
              "    </tr>\n",
              "    <tr>\n",
              "      <th>23661</th>\n",
              "      <td>32856.0</td>\n",
              "      <td>-0.427956</td>\n",
              "      <td>0.139273</td>\n",
              "      <td>0.271464</td>\n",
              "      <td>0.264618</td>\n",
              "      <td>2.067942</td>\n",
              "      <td>4.329715</td>\n",
              "      <td>-0.097858</td>\n",
              "      <td>1.083976</td>\n",
              "      <td>0.083300</td>\n",
              "      <td>...</td>\n",
              "      <td>0.017318</td>\n",
              "      <td>0.078298</td>\n",
              "      <td>0.007764</td>\n",
              "      <td>1.020045</td>\n",
              "      <td>-0.062500</td>\n",
              "      <td>-0.280870</td>\n",
              "      <td>0.187867</td>\n",
              "      <td>0.170118</td>\n",
              "      <td>87.00</td>\n",
              "      <td>0.0</td>\n",
              "    </tr>\n",
              "  </tbody>\n",
              "</table>\n",
              "<p>5 rows × 31 columns</p>\n",
              "</div>\n",
              "      <button class=\"colab-df-convert\" onclick=\"convertToInteractive('df-e4d5d215-874d-4f8f-93a1-b657b06f6579')\"\n",
              "              title=\"Convert this dataframe to an interactive table.\"\n",
              "              style=\"display:none;\">\n",
              "        \n",
              "  <svg xmlns=\"http://www.w3.org/2000/svg\" height=\"24px\"viewBox=\"0 0 24 24\"\n",
              "       width=\"24px\">\n",
              "    <path d=\"M0 0h24v24H0V0z\" fill=\"none\"/>\n",
              "    <path d=\"M18.56 5.44l.94 2.06.94-2.06 2.06-.94-2.06-.94-.94-2.06-.94 2.06-2.06.94zm-11 1L8.5 8.5l.94-2.06 2.06-.94-2.06-.94L8.5 2.5l-.94 2.06-2.06.94zm10 10l.94 2.06.94-2.06 2.06-.94-2.06-.94-.94-2.06-.94 2.06-2.06.94z\"/><path d=\"M17.41 7.96l-1.37-1.37c-.4-.4-.92-.59-1.43-.59-.52 0-1.04.2-1.43.59L10.3 9.45l-7.72 7.72c-.78.78-.78 2.05 0 2.83L4 21.41c.39.39.9.59 1.41.59.51 0 1.02-.2 1.41-.59l7.78-7.78 2.81-2.81c.8-.78.8-2.07 0-2.86zM5.41 20L4 18.59l7.72-7.72 1.47 1.35L5.41 20z\"/>\n",
              "  </svg>\n",
              "      </button>\n",
              "      \n",
              "  <style>\n",
              "    .colab-df-container {\n",
              "      display:flex;\n",
              "      flex-wrap:wrap;\n",
              "      gap: 12px;\n",
              "    }\n",
              "\n",
              "    .colab-df-convert {\n",
              "      background-color: #E8F0FE;\n",
              "      border: none;\n",
              "      border-radius: 50%;\n",
              "      cursor: pointer;\n",
              "      display: none;\n",
              "      fill: #1967D2;\n",
              "      height: 32px;\n",
              "      padding: 0 0 0 0;\n",
              "      width: 32px;\n",
              "    }\n",
              "\n",
              "    .colab-df-convert:hover {\n",
              "      background-color: #E2EBFA;\n",
              "      box-shadow: 0px 1px 2px rgba(60, 64, 67, 0.3), 0px 1px 3px 1px rgba(60, 64, 67, 0.15);\n",
              "      fill: #174EA6;\n",
              "    }\n",
              "\n",
              "    [theme=dark] .colab-df-convert {\n",
              "      background-color: #3B4455;\n",
              "      fill: #D2E3FC;\n",
              "    }\n",
              "\n",
              "    [theme=dark] .colab-df-convert:hover {\n",
              "      background-color: #434B5C;\n",
              "      box-shadow: 0px 1px 3px 1px rgba(0, 0, 0, 0.15);\n",
              "      filter: drop-shadow(0px 1px 2px rgba(0, 0, 0, 0.3));\n",
              "      fill: #FFFFFF;\n",
              "    }\n",
              "  </style>\n",
              "\n",
              "      <script>\n",
              "        const buttonEl =\n",
              "          document.querySelector('#df-e4d5d215-874d-4f8f-93a1-b657b06f6579 button.colab-df-convert');\n",
              "        buttonEl.style.display =\n",
              "          google.colab.kernel.accessAllowed ? 'block' : 'none';\n",
              "\n",
              "        async function convertToInteractive(key) {\n",
              "          const element = document.querySelector('#df-e4d5d215-874d-4f8f-93a1-b657b06f6579');\n",
              "          const dataTable =\n",
              "            await google.colab.kernel.invokeFunction('convertToInteractive',\n",
              "                                                     [key], {});\n",
              "          if (!dataTable) return;\n",
              "\n",
              "          const docLinkHtml = 'Like what you see? Visit the ' +\n",
              "            '<a target=\"_blank\" href=https://colab.research.google.com/notebooks/data_table.ipynb>data table notebook</a>'\n",
              "            + ' to learn more about interactive tables.';\n",
              "          element.innerHTML = '';\n",
              "          dataTable['output_type'] = 'display_data';\n",
              "          await google.colab.output.renderOutput(dataTable, element);\n",
              "          const docLink = document.createElement('div');\n",
              "          docLink.innerHTML = docLinkHtml;\n",
              "          element.appendChild(docLink);\n",
              "        }\n",
              "      </script>\n",
              "    </div>\n",
              "  </div>\n",
              "  "
            ]
          },
          "metadata": {},
          "execution_count": 40
        }
      ]
    },
    {
      "cell_type": "code",
      "source": [
        "new_df['Class'].value_counts()"
      ],
      "metadata": {
        "colab": {
          "base_uri": "https://localhost:8080/"
        },
        "id": "xB5xRjBRAyzx",
        "outputId": "83247417-f084-4a35-b327-f1b79674619d"
      },
      "execution_count": 42,
      "outputs": [
        {
          "output_type": "execute_result",
          "data": {
            "text/plain": [
              "0.0    381\n",
              "1.0    381\n",
              "Name: Class, dtype: int64"
            ]
          },
          "metadata": {},
          "execution_count": 42
        }
      ]
    },
    {
      "cell_type": "code",
      "source": [
        "new_df.groupby('Class').mean()"
      ],
      "metadata": {
        "colab": {
          "base_uri": "https://localhost:8080/",
          "height": 237
        },
        "id": "zj15MOYoBTV5",
        "outputId": "e898c5e1-2f5d-40f4-edca-f57debfc38a7"
      },
      "execution_count": 43,
      "outputs": [
        {
          "output_type": "execute_result",
          "data": {
            "text/plain": [
              "               Time        V1        V2        V3        V4        V5  \\\n",
              "Class                                                                   \n",
              "0.0    69305.572178 -0.040008  0.021161  0.339657  0.079753 -0.007470   \n",
              "1.0    60541.997375 -5.755911  4.243874 -7.768470  4.780104 -4.143295   \n",
              "\n",
              "             V6        V7        V8        V9  ...       V20       V21  \\\n",
              "Class                                          ...                       \n",
              "0.0    0.078454 -0.061635  0.038523 -0.010866  ...  0.010543 -0.033274   \n",
              "1.0   -1.408967 -6.702717  0.703757 -2.780511  ...  0.382486  0.798233   \n",
              "\n",
              "            V22       V23       V24       V25       V26       V27       V28  \\\n",
              "Class                                                                         \n",
              "0.0   -0.051324 -0.026884 -0.015854  0.055428 -0.000205  0.018868  0.007573   \n",
              "1.0   -0.021515 -0.038763 -0.066856  0.074069  0.041146  0.177640  0.056083   \n",
              "\n",
              "           Amount  \n",
              "Class              \n",
              "0.0     71.695696  \n",
              "1.0    116.421155  \n",
              "\n",
              "[2 rows x 30 columns]"
            ],
            "text/html": [
              "\n",
              "  <div id=\"df-165bac57-35c9-4d6b-8493-0044eeed4dc1\">\n",
              "    <div class=\"colab-df-container\">\n",
              "      <div>\n",
              "<style scoped>\n",
              "    .dataframe tbody tr th:only-of-type {\n",
              "        vertical-align: middle;\n",
              "    }\n",
              "\n",
              "    .dataframe tbody tr th {\n",
              "        vertical-align: top;\n",
              "    }\n",
              "\n",
              "    .dataframe thead th {\n",
              "        text-align: right;\n",
              "    }\n",
              "</style>\n",
              "<table border=\"1\" class=\"dataframe\">\n",
              "  <thead>\n",
              "    <tr style=\"text-align: right;\">\n",
              "      <th></th>\n",
              "      <th>Time</th>\n",
              "      <th>V1</th>\n",
              "      <th>V2</th>\n",
              "      <th>V3</th>\n",
              "      <th>V4</th>\n",
              "      <th>V5</th>\n",
              "      <th>V6</th>\n",
              "      <th>V7</th>\n",
              "      <th>V8</th>\n",
              "      <th>V9</th>\n",
              "      <th>...</th>\n",
              "      <th>V20</th>\n",
              "      <th>V21</th>\n",
              "      <th>V22</th>\n",
              "      <th>V23</th>\n",
              "      <th>V24</th>\n",
              "      <th>V25</th>\n",
              "      <th>V26</th>\n",
              "      <th>V27</th>\n",
              "      <th>V28</th>\n",
              "      <th>Amount</th>\n",
              "    </tr>\n",
              "    <tr>\n",
              "      <th>Class</th>\n",
              "      <th></th>\n",
              "      <th></th>\n",
              "      <th></th>\n",
              "      <th></th>\n",
              "      <th></th>\n",
              "      <th></th>\n",
              "      <th></th>\n",
              "      <th></th>\n",
              "      <th></th>\n",
              "      <th></th>\n",
              "      <th></th>\n",
              "      <th></th>\n",
              "      <th></th>\n",
              "      <th></th>\n",
              "      <th></th>\n",
              "      <th></th>\n",
              "      <th></th>\n",
              "      <th></th>\n",
              "      <th></th>\n",
              "      <th></th>\n",
              "      <th></th>\n",
              "    </tr>\n",
              "  </thead>\n",
              "  <tbody>\n",
              "    <tr>\n",
              "      <th>0.0</th>\n",
              "      <td>69305.572178</td>\n",
              "      <td>-0.040008</td>\n",
              "      <td>0.021161</td>\n",
              "      <td>0.339657</td>\n",
              "      <td>0.079753</td>\n",
              "      <td>-0.007470</td>\n",
              "      <td>0.078454</td>\n",
              "      <td>-0.061635</td>\n",
              "      <td>0.038523</td>\n",
              "      <td>-0.010866</td>\n",
              "      <td>...</td>\n",
              "      <td>0.010543</td>\n",
              "      <td>-0.033274</td>\n",
              "      <td>-0.051324</td>\n",
              "      <td>-0.026884</td>\n",
              "      <td>-0.015854</td>\n",
              "      <td>0.055428</td>\n",
              "      <td>-0.000205</td>\n",
              "      <td>0.018868</td>\n",
              "      <td>0.007573</td>\n",
              "      <td>71.695696</td>\n",
              "    </tr>\n",
              "    <tr>\n",
              "      <th>1.0</th>\n",
              "      <td>60541.997375</td>\n",
              "      <td>-5.755911</td>\n",
              "      <td>4.243874</td>\n",
              "      <td>-7.768470</td>\n",
              "      <td>4.780104</td>\n",
              "      <td>-4.143295</td>\n",
              "      <td>-1.408967</td>\n",
              "      <td>-6.702717</td>\n",
              "      <td>0.703757</td>\n",
              "      <td>-2.780511</td>\n",
              "      <td>...</td>\n",
              "      <td>0.382486</td>\n",
              "      <td>0.798233</td>\n",
              "      <td>-0.021515</td>\n",
              "      <td>-0.038763</td>\n",
              "      <td>-0.066856</td>\n",
              "      <td>0.074069</td>\n",
              "      <td>0.041146</td>\n",
              "      <td>0.177640</td>\n",
              "      <td>0.056083</td>\n",
              "      <td>116.421155</td>\n",
              "    </tr>\n",
              "  </tbody>\n",
              "</table>\n",
              "<p>2 rows × 30 columns</p>\n",
              "</div>\n",
              "      <button class=\"colab-df-convert\" onclick=\"convertToInteractive('df-165bac57-35c9-4d6b-8493-0044eeed4dc1')\"\n",
              "              title=\"Convert this dataframe to an interactive table.\"\n",
              "              style=\"display:none;\">\n",
              "        \n",
              "  <svg xmlns=\"http://www.w3.org/2000/svg\" height=\"24px\"viewBox=\"0 0 24 24\"\n",
              "       width=\"24px\">\n",
              "    <path d=\"M0 0h24v24H0V0z\" fill=\"none\"/>\n",
              "    <path d=\"M18.56 5.44l.94 2.06.94-2.06 2.06-.94-2.06-.94-.94-2.06-.94 2.06-2.06.94zm-11 1L8.5 8.5l.94-2.06 2.06-.94-2.06-.94L8.5 2.5l-.94 2.06-2.06.94zm10 10l.94 2.06.94-2.06 2.06-.94-2.06-.94-.94-2.06-.94 2.06-2.06.94z\"/><path d=\"M17.41 7.96l-1.37-1.37c-.4-.4-.92-.59-1.43-.59-.52 0-1.04.2-1.43.59L10.3 9.45l-7.72 7.72c-.78.78-.78 2.05 0 2.83L4 21.41c.39.39.9.59 1.41.59.51 0 1.02-.2 1.41-.59l7.78-7.78 2.81-2.81c.8-.78.8-2.07 0-2.86zM5.41 20L4 18.59l7.72-7.72 1.47 1.35L5.41 20z\"/>\n",
              "  </svg>\n",
              "      </button>\n",
              "      \n",
              "  <style>\n",
              "    .colab-df-container {\n",
              "      display:flex;\n",
              "      flex-wrap:wrap;\n",
              "      gap: 12px;\n",
              "    }\n",
              "\n",
              "    .colab-df-convert {\n",
              "      background-color: #E8F0FE;\n",
              "      border: none;\n",
              "      border-radius: 50%;\n",
              "      cursor: pointer;\n",
              "      display: none;\n",
              "      fill: #1967D2;\n",
              "      height: 32px;\n",
              "      padding: 0 0 0 0;\n",
              "      width: 32px;\n",
              "    }\n",
              "\n",
              "    .colab-df-convert:hover {\n",
              "      background-color: #E2EBFA;\n",
              "      box-shadow: 0px 1px 2px rgba(60, 64, 67, 0.3), 0px 1px 3px 1px rgba(60, 64, 67, 0.15);\n",
              "      fill: #174EA6;\n",
              "    }\n",
              "\n",
              "    [theme=dark] .colab-df-convert {\n",
              "      background-color: #3B4455;\n",
              "      fill: #D2E3FC;\n",
              "    }\n",
              "\n",
              "    [theme=dark] .colab-df-convert:hover {\n",
              "      background-color: #434B5C;\n",
              "      box-shadow: 0px 1px 3px 1px rgba(0, 0, 0, 0.15);\n",
              "      filter: drop-shadow(0px 1px 2px rgba(0, 0, 0, 0.3));\n",
              "      fill: #FFFFFF;\n",
              "    }\n",
              "  </style>\n",
              "\n",
              "      <script>\n",
              "        const buttonEl =\n",
              "          document.querySelector('#df-165bac57-35c9-4d6b-8493-0044eeed4dc1 button.colab-df-convert');\n",
              "        buttonEl.style.display =\n",
              "          google.colab.kernel.accessAllowed ? 'block' : 'none';\n",
              "\n",
              "        async function convertToInteractive(key) {\n",
              "          const element = document.querySelector('#df-165bac57-35c9-4d6b-8493-0044eeed4dc1');\n",
              "          const dataTable =\n",
              "            await google.colab.kernel.invokeFunction('convertToInteractive',\n",
              "                                                     [key], {});\n",
              "          if (!dataTable) return;\n",
              "\n",
              "          const docLinkHtml = 'Like what you see? Visit the ' +\n",
              "            '<a target=\"_blank\" href=https://colab.research.google.com/notebooks/data_table.ipynb>data table notebook</a>'\n",
              "            + ' to learn more about interactive tables.';\n",
              "          element.innerHTML = '';\n",
              "          dataTable['output_type'] = 'display_data';\n",
              "          await google.colab.output.renderOutput(dataTable, element);\n",
              "          const docLink = document.createElement('div');\n",
              "          docLink.innerHTML = docLinkHtml;\n",
              "          element.appendChild(docLink);\n",
              "        }\n",
              "      </script>\n",
              "    </div>\n",
              "  </div>\n",
              "  "
            ]
          },
          "metadata": {},
          "execution_count": 43
        }
      ]
    },
    {
      "cell_type": "code",
      "source": [
        "new_df.shape"
      ],
      "metadata": {
        "colab": {
          "base_uri": "https://localhost:8080/"
        },
        "id": "v7Z8GkiRD_o3",
        "outputId": "852ce720-2717-494e-af52-dca6dd74ae8f"
      },
      "execution_count": 50,
      "outputs": [
        {
          "output_type": "execute_result",
          "data": {
            "text/plain": [
              "(762, 31)"
            ]
          },
          "metadata": {},
          "execution_count": 50
        }
      ]
    },
    {
      "cell_type": "markdown",
      "source": [
        "splitting the data into Features &targets"
      ],
      "metadata": {
        "id": "6_AkqYp2B8uC"
      }
    },
    {
      "cell_type": "code",
      "source": [
        "x = new_df.drop(columns = 'Class',axis = 1)\n",
        "y = new_df['Class']"
      ],
      "metadata": {
        "id": "04B8IzC4B4kM"
      },
      "execution_count": 45,
      "outputs": []
    },
    {
      "cell_type": "code",
      "source": [
        "print(x)"
      ],
      "metadata": {
        "colab": {
          "base_uri": "https://localhost:8080/"
        },
        "id": "KZ2xAopnCUxt",
        "outputId": "e039e7bf-869d-4ac7-d297-70b6ee0f19b9"
      },
      "execution_count": 46,
      "outputs": [
        {
          "output_type": "stream",
          "name": "stdout",
          "text": [
            "            Time        V1        V2        V3        V4        V5        V6  \\\n",
            "9330     13515.0  1.223788  0.012901  0.874744  0.319244 -0.806493 -0.870352   \n",
            "56437    47426.0  0.800442 -1.252205  1.094588  0.623545 -1.865902 -0.370191   \n",
            "82003    59200.0 -1.937216 -1.090807  2.829094  0.016414  0.942303 -1.111521   \n",
            "109644   71472.0 -1.498785 -0.179831  2.064451 -0.781757 -0.853080 -0.457872   \n",
            "23661    32856.0 -0.427956  0.139273  0.271464  0.264618  2.067942  4.329715   \n",
            "...          ...       ...       ...       ...       ...       ...       ...   \n",
            "191690  129371.0  1.183931  3.057250 -6.161997  5.543972  1.617041 -1.848006   \n",
            "192382  129668.0  0.753356  2.284988 -5.164492  3.831112 -0.073622 -1.316596   \n",
            "192529  129741.0 -1.396204  2.618584 -6.036770  3.552454  1.030091 -2.950358   \n",
            "192584  129764.0 -2.434004  3.225947 -6.596282  3.593161 -1.079452 -1.739741   \n",
            "192687  129808.0  1.522080 -0.519429 -2.581685  0.774741  0.206722 -1.431020   \n",
            "\n",
            "              V7        V8        V9  ...       V20       V21       V22  \\\n",
            "9330   -0.354155 -0.202414  1.682257  ... -0.065831 -0.332747 -0.777476   \n",
            "56437  -0.686096  0.163629  1.785389  ...  0.146705  0.063924  0.022568   \n",
            "82003  -1.020935  0.442021  0.396492  ...  0.217654  0.306674  0.475138   \n",
            "109644 -0.473030  0.806431  0.434703  ... -0.071857  0.004831 -0.325278   \n",
            "23661  -0.097858  1.083976  0.083300  ...  0.286351  0.017318  0.078298   \n",
            "...          ...       ...       ...  ...       ...       ...       ...   \n",
            "191690 -1.005508  0.339937 -2.959806  ...  0.252571  0.109185 -0.931072   \n",
            "192382 -1.855495  0.831079 -1.567514  ...  0.285792  0.382007  0.033958   \n",
            "192529 -1.528506  0.189319 -1.433554  ...  0.031795  0.143177 -0.390176   \n",
            "192584 -0.047420  0.301424 -1.779434  ... -0.280533 -0.035491 -0.419178   \n",
            "192687  0.757011 -0.444418  0.997921  ...  0.361169  0.019649 -0.211678   \n",
            "\n",
            "             V23       V24       V25       V26       V27       V28  Amount  \n",
            "9330    0.149688  0.367724 -0.024413  0.747671 -0.093793  0.012013   26.56  \n",
            "56437  -0.180673  0.779669  0.172669  1.164444 -0.075599  0.041924  202.00  \n",
            "82003   0.006875  0.420002  0.257028  0.502039 -0.022188  0.093393    0.10  \n",
            "109644  0.038580  0.549890 -0.232412  0.752279 -0.123714 -0.063986   50.94  \n",
            "23661   0.007764  1.020045 -0.062500 -0.280870  0.187867  0.170118   87.00  \n",
            "...          ...       ...       ...       ...       ...       ...     ...  \n",
            "191690 -0.064175 -0.007013  0.345419  0.064558  0.476629  0.323740    0.00  \n",
            "192382  0.187697  0.358433 -0.488934 -0.258802  0.296145 -0.047174    2.00  \n",
            "192529  0.356029 -0.762352  0.096510 -0.487861  0.062655 -0.240732    1.00  \n",
            "192584  0.157436 -0.714849  0.468859 -0.348522  0.420036 -0.327643  362.55  \n",
            "192687 -0.247452 -0.279472  0.239646 -0.508398 -0.015551  0.041881  276.17  \n",
            "\n",
            "[762 rows x 30 columns]\n"
          ]
        }
      ]
    },
    {
      "cell_type": "code",
      "source": [
        "print(y)"
      ],
      "metadata": {
        "colab": {
          "base_uri": "https://localhost:8080/"
        },
        "id": "6MgAaxyvCdWi",
        "outputId": "50ad52b5-a099-4f0f-eece-6c55765bd09d"
      },
      "execution_count": 47,
      "outputs": [
        {
          "output_type": "stream",
          "name": "stdout",
          "text": [
            "9330      0.0\n",
            "56437     0.0\n",
            "82003     0.0\n",
            "109644    0.0\n",
            "23661     0.0\n",
            "         ... \n",
            "191690    1.0\n",
            "192382    1.0\n",
            "192529    1.0\n",
            "192584    1.0\n",
            "192687    1.0\n",
            "Name: Class, Length: 762, dtype: float64\n"
          ]
        }
      ]
    },
    {
      "cell_type": "code",
      "source": [],
      "metadata": {
        "id": "-zC8kMSwD61W"
      },
      "execution_count": null,
      "outputs": []
    },
    {
      "cell_type": "code",
      "source": [
        "#split the data into training and test\n",
        "x_train, x_test, y_train, y_test = train_test_split(x,y,test_size = 0.1, random_state = 2)"
      ],
      "metadata": {
        "id": "UA_sGRafDDqn"
      },
      "execution_count": 48,
      "outputs": []
    },
    {
      "cell_type": "code",
      "source": [
        "print(x.shape, x_train.shape,x_test.shape)"
      ],
      "metadata": {
        "colab": {
          "base_uri": "https://localhost:8080/"
        },
        "id": "muftpz6SDkvf",
        "outputId": "5bca18e1-3713-4311-a4dc-5633a52746a3"
      },
      "execution_count": 49,
      "outputs": [
        {
          "output_type": "stream",
          "name": "stdout",
          "text": [
            "(762, 30) (685, 30) (77, 30)\n"
          ]
        }
      ]
    },
    {
      "cell_type": "markdown",
      "source": [
        "Model Training\n",
        "Logistic Regression"
      ],
      "metadata": {
        "id": "-62g2_IaEJX2"
      }
    },
    {
      "cell_type": "code",
      "source": [
        "model = LogisticRegression()"
      ],
      "metadata": {
        "id": "Y-1livGLDyH0"
      },
      "execution_count": 51,
      "outputs": []
    },
    {
      "cell_type": "code",
      "source": [
        "# training the Logistic Regression with training data\n",
        "model.fit(x_train,y_train)"
      ],
      "metadata": {
        "colab": {
          "base_uri": "https://localhost:8080/"
        },
        "id": "UaP33KhCEY2q",
        "outputId": "d0d5c115-a0fc-415a-a341-dda175c19e70"
      },
      "execution_count": 52,
      "outputs": [
        {
          "output_type": "stream",
          "name": "stderr",
          "text": [
            "/usr/local/lib/python3.8/dist-packages/sklearn/linear_model/_logistic.py:814: ConvergenceWarning: lbfgs failed to converge (status=1):\n",
            "STOP: TOTAL NO. of ITERATIONS REACHED LIMIT.\n",
            "\n",
            "Increase the number of iterations (max_iter) or scale the data as shown in:\n",
            "    https://scikit-learn.org/stable/modules/preprocessing.html\n",
            "Please also refer to the documentation for alternative solver options:\n",
            "    https://scikit-learn.org/stable/modules/linear_model.html#logistic-regression\n",
            "  n_iter_i = _check_optimize_result(\n"
          ]
        },
        {
          "output_type": "execute_result",
          "data": {
            "text/plain": [
              "LogisticRegression()"
            ]
          },
          "metadata": {},
          "execution_count": 52
        }
      ]
    },
    {
      "cell_type": "code",
      "source": [
        "#accuracy score\n",
        "from sklearn.metrics import accuracy_score\n",
        "x_train_prediction = model.predict(x_train)\n",
        "training_data_accuracy = accuracy_score(x_train_prediction,y_train)"
      ],
      "metadata": {
        "id": "Dl6oS-2sEz0N"
      },
      "execution_count": 56,
      "outputs": []
    },
    {
      "cell_type": "code",
      "source": [
        "print('accuracy onn traing data:',training_data_accuracy)"
      ],
      "metadata": {
        "colab": {
          "base_uri": "https://localhost:8080/"
        },
        "id": "D8VjX8RTFTkB",
        "outputId": "07e84920-a468-4ab6-e9a2-7d7a15cd7b44"
      },
      "execution_count": 57,
      "outputs": [
        {
          "output_type": "stream",
          "name": "stdout",
          "text": [
            "accuracy onn traing data: 0.9445255474452555\n"
          ]
        }
      ]
    },
    {
      "cell_type": "code",
      "source": [
        "x_test_prediction = model.predict(x_test)\n",
        "test_data_accuracy = accuracy_score(x_test_prediction,y_test)"
      ],
      "metadata": {
        "id": "m0c4sxUZHdMv"
      },
      "execution_count": 58,
      "outputs": []
    },
    {
      "cell_type": "code",
      "source": [
        "print('accuracy onn test data:',test_data_accuracy)"
      ],
      "metadata": {
        "colab": {
          "base_uri": "https://localhost:8080/"
        },
        "id": "pQy6tYWAH04v",
        "outputId": "541f68e3-1192-4965-9a71-64f2184165ee"
      },
      "execution_count": 59,
      "outputs": [
        {
          "output_type": "stream",
          "name": "stdout",
          "text": [
            "accuracy onn test data: 0.935064935064935\n"
          ]
        }
      ]
    },
    {
      "cell_type": "code",
      "source": [],
      "metadata": {
        "id": "UffTIOjQH8n9"
      },
      "execution_count": null,
      "outputs": []
    }
  ]
}